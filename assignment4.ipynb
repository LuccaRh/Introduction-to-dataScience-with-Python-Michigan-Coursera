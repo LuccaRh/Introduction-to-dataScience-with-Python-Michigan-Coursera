{
 "cells": [
  {
   "cell_type": "markdown",
   "metadata": {
    "deletable": false,
    "editable": false,
    "etc_identifier": "653a3605-5bda-4e1f-beef-04a0173d3f41",
    "nbgrader": {
     "cell_type": "markdown",
     "checksum": "60da2e57814a61cf6a81dd670bf35473",
     "grade": false,
     "grade_id": "cell-a6c4f74309fc2379",
     "locked": true,
     "schema_version": 3,
     "solution": false
    }
   },
   "source": [
    "# Assignment 4\n",
    "## Description\n",
    "In this assignment you must read in a file of metropolitan regions and associated sports teams from [assets/wikipedia_data.html](assets/wikipedia_data.html) and answer some questions about each metropolitan region. Each of these regions may have one or more teams from the \"Big 4\": NFL (football, in [assets/nfl.csv](assets/nfl.csv)), MLB (baseball, in [assets/mlb.csv](assets/mlb.csv)), NBA (basketball, in [assets/nba.csv](assets/nba.csv) or NHL (hockey, in [assets/nhl.csv](assets/nhl.csv)). Please keep in mind that all questions are from the perspective of the metropolitan region, and that this file is the \"source of authority\" for the location of a given sports team. Thus teams which are commonly known by a different area (e.g. \"Oakland Raiders\") need to be mapped into the metropolitan region given (e.g. San Francisco Bay Area). This will require some human data understanding outside of the data you've been given (e.g. you will have to hand-code some names, and might need to google to find out where teams are)!\n",
    "\n",
    "For each sport I would like you to answer the question: **what is the win/loss ratio's correlation with the population of the city it is in?** Win/Loss ratio refers to the number of wins over the number of wins plus the number of losses. Remember that to calculate the correlation with [`pearsonr`](https://docs.scipy.org/doc/scipy/reference/generated/scipy.stats.pearsonr.html), so you are going to send in two ordered lists of values, the populations from the wikipedia_data.html file and the win/loss ratio for a given sport in the same order. Average the win/loss ratios for those cities which have multiple teams of a single sport. Each sport is worth an equal amount in this assignment (20%\\*4=80%) of the grade for this assignment. You should only use data **from year 2018** for your analysis -- this is important!\n",
    "\n",
    "## Notes\n",
    "\n",
    "1. Do not include data about the MLS or CFL in any of the work you are doing, we're only interested in the Big 4 in this assignment.\n",
    "2. I highly suggest that you first tackle the four correlation questions in order, as they are all similar and worth the majority of grades for this assignment. This is by design!\n",
    "3. It's fair game to talk with peers about high level strategy as well as the relationship between metropolitan areas and sports teams. However, do not post code solving aspects of the assignment (including such as dictionaries mapping areas to teams, or regexes which will clean up names).\n",
    "4. There may be more teams than the assert statements test, remember to collapse multiple teams in one city into a single value!\n",
    "\n",
    "As this assignment utilizes global variables in the skeleton code, to avoid having errors in your code you can either:\n",
    "\n",
    "1. You can place all of your code within the function definitions for all of the questions (other than import statements).\n",
    "2. You can create copies of all the global variables with the copy() method and proceed as usual."
   ]
  },
  {
   "cell_type": "markdown",
   "metadata": {
    "deletable": false,
    "editable": false,
    "nbgrader": {
     "cell_type": "markdown",
     "checksum": "369ff9ecf0ee04640574205cbc697f94",
     "grade": false,
     "grade_id": "cell-712b2b5da63d4505",
     "locked": true,
     "schema_version": 3,
     "solution": false
    }
   },
   "source": [
    "## Question 1\n",
    "For this question, calculate the win/loss ratio's correlation with the population of the city it is in for the **NHL** using **2018** data."
   ]
  },
  {
   "cell_type": "code",
   "execution_count": 4,
   "metadata": {
    "deletable": false,
    "nbgrader": {
     "cell_type": "code",
     "checksum": "1cac4803b02502929f5b1612d48db2b5",
     "grade": false,
     "grade_id": "cell-69b16e4386e58030",
     "locked": false,
     "schema_version": 3,
     "solution": true
    }
   },
   "outputs": [
    {
     "name": "stdout",
     "output_type": "stream",
     "text": [
      "         Metropolitan area Population (2016 est.)[8]         NHL   W   L\n",
      "0           Tampa Bay Area                   3032171   Lightning  54  23\n",
      "1                   Boston                   4794447      Bruins  50  20\n",
      "2                  Toronto                   5928040       Leafs  49  26\n",
      "3    Miami–Fort Lauderdale                   6066387    Panthers  44  30\n",
      "4                  Detroit                   4297617       Wings  30  39\n",
      "5                 Montreal                   4098927   Canadiens  29  40\n",
      "6                   Ottawa                   1323783    Senators  28  43\n",
      "7                  Buffalo                   1132804      Sabres  25  45\n",
      "8         Washington, D.C.                   6131977    Capitals  49  26\n",
      "9               Pittsburgh                   2342299    Penguins  47  29\n",
      "10            Philadelphia                   6070500      Flyers  42  26\n",
      "11                Columbus                   2041520     Jackets  45  30\n",
      "12           New York City                  20153634      Devils  44  29\n",
      "13                 Raleigh                   1302946  Hurricanes  36  35\n",
      "14           New York City                       NaN   Islanders  35  37\n",
      "15           New York City                       NaN     Rangers  34  39\n",
      "16               Nashville                   1865298   Predators  53  18\n",
      "17                Winnipeg                    778489        Jets  52  20\n",
      "18  Minneapolis–Saint Paul                   3551036        Wild  45  26\n",
      "19                  Denver                   2853077   Avalanche  43  30\n",
      "20               St. Louis                   2807002       Blues  44  32\n",
      "21       Dallas–Fort Worth                   7233323       Stars  42  32\n",
      "22                 Chicago                   9512999  Blackhawks  33  39\n",
      "23               Las Vegas                   2155664     Knights  51  24\n",
      "24             Los Angeles                  13310447       Ducks  44  25\n",
      "25  San Francisco Bay Area                   6657982      Sharks  45  27\n",
      "26             Los Angeles                       NaN       Kings  45  29\n",
      "27                 Calgary                   1392609      Flames  37  35\n",
      "28                Edmonton                   1321426      Oilers  36  40\n",
      "29               Vancouver                   2463431     Canucks  31  40\n",
      "30                 Phoenix                   4661537     Coyotes  29  41\n"
     ]
    },
    {
     "data": {
      "text/plain": [
       "0.01230899645574425"
      ]
     },
     "execution_count": 4,
     "metadata": {},
     "output_type": "execute_result"
    }
   ],
   "source": [
    "import pandas as pd\n",
    "import numpy as np\n",
    "import scipy.stats as stats\n",
    "import re\n",
    "\n",
    "\n",
    "def nhl_correlation(): \n",
    "    # YOUR CODE HERE\n",
    "    \n",
    "    nhl_df=pd.read_csv(\"assets/nhl.csv\")\n",
    "    cities=pd.read_html(\"assets/wikipedia_data.html\")[1]\n",
    "    cities=cities.iloc[:-1,[0,3,5,6,7,8]]\n",
    "    \n",
    "    population_by_region = [] # pass in metropolitan area population from cities\n",
    "    win_loss_by_region = [] # pass in win/loss ratio from nhl_df in the same order as cities[\"Metropolitan area\"]\n",
    "    \n",
    "    nhl_df = nhl_df.rename(columns={'team':'NHL'})\n",
    "    nhl_df = nhl_df[nhl_df['year'] == 2018] #Deixar apenas times de 2018\n",
    "    nhl_df = nhl_df[['NHL', 'W', 'L']] #Deixar apenas as colunas com times,vitórias e derrotas\n",
    "    nhl_df[\"NHL\"] = nhl_df[\"NHL\"].str.replace(r'\\*$', \"\")  # Remover * de todos times\n",
    "    #Remover linhas desnecessárias:\n",
    "    strings_a_remover = ['Atlantic Division', 'Metropolitan Division', 'Central Division', 'Pacific Division'] \n",
    "    nhl_df = nhl_df.loc[~nhl_df['NHL'].isin(strings_a_remover)]\n",
    "    nhl_df['NHL'] = nhl_df['NHL'].str.split().str[-1] #Deixar apenas o nome do time (removendo o nome da cidade)\n",
    "\n",
    "    cities = cities.drop(columns = ['NFL', 'MLB', 'NBA']) #Remover colunas desnecessárias\n",
    "    cities.replace(\"—\", pd.NA, inplace=True)  # Substituir \"—\" por Nan\n",
    "    cities[\"NHL\"] = cities[\"NHL\"].str.replace(r'\\[note \\d+\\]$', \"\")  # Remover [note {número}] de todos nomes de times   \n",
    "    cities['NHL'] = cities['NHL'].str.split().str[-1] #Deixar apenas nome principal do time, assim, nhl_df e cities possuem equivalentes na coluna NHL\n",
    "    \n",
    "    df_merged = pd.merge(cities, nhl_df, on=\"NHL\", how=\"right\") #Juntar os dois dataframes pela coluna NHL\n",
    "    #Adicionando cidade para os times que estavam na msm cidade (ex: ducks e kings são de LA, então apenas um deles foi colocado pelo merge em LA)\n",
    "    df_merged['Metropolitan area'][14] = df_merged['Metropolitan area'][15] = 'New York City'\n",
    "    df_merged['Metropolitan area'][26] = 'Los Angeles'\n",
    "    #Transformando colunas com número de derrotas e vitórias para numérico\n",
    "    df_merged['W'] = pd.to_numeric(df_merged['W'])\n",
    "    df_merged['L'] = pd.to_numeric(df_merged['L'])\n",
    "    \n",
    "    #Juntando pela cidades, então times por exemplo, LA vai ter a soma das derrotas e vitórias de Ducks e Kings\n",
    "    df_agrupadoVitorias = df_merged.groupby('Metropolitan area')['W'].sum().reset_index() \n",
    "    df_agrupadoDerrotas = df_merged.groupby('Metropolitan area')['L'].sum().reset_index()   \n",
    "    df_agrupado = pd.merge(df_agrupadoVitorias, df_agrupadoDerrotas, on=\"Metropolitan area\", how=\"inner\")  #juntando as derrotas e vitórias \n",
    "    df_agrupado['ratio'] = df_agrupado['W']/(df_agrupado['W']+df_agrupado['L']) #criando win/loss ratio\n",
    "    df_agrupado = pd.merge(df_agrupado, cities, on=\"Metropolitan area\", how=\"left\") #adicionando o win/loss ratio no dataframe cidades\n",
    "    df_agrupado = df_agrupado.drop(columns = ['NHL'])\n",
    "    \n",
    "    population_by_region = pd.to_numeric(df_agrupado['Population (2016 est.)[8]']).tolist()\n",
    "    win_loss_by_region = df_agrupado['ratio'].tolist()\n",
    "    \n",
    "    \n",
    "    assert len(population_by_region) == len(win_loss_by_region), \"Q1: Your lists must be the same length\"\n",
    "    assert len(population_by_region) == 28, \"Q1: There should be 28 teams being analysed for NHL\"\n",
    "    return stats.pearsonr(population_by_region, win_loss_by_region)[0]\n",
    "    raise NotImplementedError()\n",
    "nhl_correlation()"
   ]
  },
  {
   "cell_type": "code",
   "execution_count": null,
   "metadata": {
    "deletable": false,
    "editable": false,
    "nbgrader": {
     "cell_type": "code",
     "checksum": "52a581df513c71153e105b93764cda4b",
     "grade": true,
     "grade_id": "cell-ebe0b2dfe1067e63",
     "locked": true,
     "points": 20,
     "schema_version": 3,
     "solution": false
    }
   },
   "outputs": [],
   "source": []
  },
  {
   "cell_type": "markdown",
   "metadata": {
    "deletable": false,
    "editable": false,
    "nbgrader": {
     "cell_type": "markdown",
     "checksum": "988912cae4968d81473f46d783e79c16",
     "grade": false,
     "grade_id": "cell-cb964e690298b71d",
     "locked": true,
     "schema_version": 3,
     "solution": false
    }
   },
   "source": [
    "## Question 2\n",
    "For this question, calculate the win/loss ratio's correlation with the population of the city it is in for the **NBA** using **2018** data."
   ]
  },
  {
   "cell_type": "code",
   "execution_count": 13,
   "metadata": {
    "deletable": false,
    "nbgrader": {
     "cell_type": "code",
     "checksum": "9394222aafc8ccab0a228098ba0d6010",
     "grade": false,
     "grade_id": "cell-5a5f21279e3d3572",
     "locked": false,
     "schema_version": 3,
     "solution": true
    }
   },
   "outputs": [
    {
     "data": {
      "text/plain": [
       "(-0.17657160252844614, 0.36874741604463)"
      ]
     },
     "execution_count": 13,
     "metadata": {},
     "output_type": "execute_result"
    }
   ],
   "source": [
    "import pandas as pd\n",
    "import numpy as np\n",
    "import scipy.stats as stats\n",
    "import re\n",
    "\n",
    "def nba_correlation():\n",
    "    # YOUR CODE HERE\n",
    "    nba_df=pd.read_csv(\"assets/nba.csv\")\n",
    "    cities=pd.read_html(\"assets/wikipedia_data.html\")[1]\n",
    "    cities=cities.iloc[:-1,[0,3,5,6,7,8]]\n",
    "    \n",
    "    population_by_region = [] # pass in metropolitan area population from cities\n",
    "    win_loss_by_region = [] # pass in win/loss ratio from nba_df in the same order as cities[\"Metropolitan area\"]\n",
    "    esporte = 'NBA'\n",
    "    \n",
    "    nba_df = nba_df.rename(columns={'team':esporte})\n",
    "    nba_df = nba_df[nba_df['year'] == 2018]\n",
    "    nba_df = nba_df[[esporte, 'W', 'L']]\n",
    "    nba_df[esporte] = nba_df[esporte].str.replace(r'\\s*\\(\\d+\\)$|\\s*\\*\\s*\\(\\d+\\)$', \"\")  # Remover * de todos times\n",
    "    nba_df[esporte] = nba_df[esporte].str.split().str[-1]\n",
    "    \n",
    "    cities = cities.drop(columns = ['NFL', 'MLB', 'NHL'])\n",
    "    cities.replace(\"—\", pd.NA, inplace=True)  # Substituir \"...\" por Nan\n",
    "    cities[esporte] = cities[esporte].str.replace(r'\\[note \\d+\\]$', \"\")  # Remover [note {número}] de todos nomes de times    \n",
    "    cities[esporte] = cities[esporte].str.split().str[-1]\n",
    "    \n",
    "    df_merged = pd.merge(cities, nba_df, on=esporte, how=\"right\")\n",
    "    df_merged['Metropolitan area'][10] =  'New York City'\n",
    "    df_merged['Metropolitan area'][25] = 'Los Angeles'\n",
    "    df_merged['W'] = pd.to_numeric(df_merged['W'])\n",
    "    df_merged['L'] = pd.to_numeric(df_merged['L'])\n",
    "    \n",
    "    df_agrupadoVitorias = df_merged.groupby('Metropolitan area')['W'].sum().reset_index()\n",
    "    df_agrupadoDerrotas = df_merged.groupby('Metropolitan area')['L'].sum().reset_index()   \n",
    "    df_agrupado = pd.merge(df_agrupadoVitorias, df_agrupadoDerrotas, on=\"Metropolitan area\", how=\"inner\")\n",
    "    df_agrupado['ratio'] = df_agrupado['W']/(df_agrupado['W']+df_agrupado['L'])\n",
    "    df_agrupado = pd.merge(df_agrupado, cities, on=\"Metropolitan area\", how=\"left\")\n",
    "    df_agrupado = df_agrupado.drop(columns = [esporte])\n",
    "    \n",
    "    population_by_region = pd.to_numeric(df_agrupado['Population (2016 est.)[8]']).tolist()\n",
    "    win_loss_by_region = df_agrupado['ratio'].tolist()\n",
    "    \n",
    "    assert len(population_by_region) == len(win_loss_by_region), \"Q2: Your lists must be the same length\"\n",
    "    assert len(population_by_region) == 28, \"Q2: There should be 28 teams being analysed for NBA\"\n",
    "    return stats.pearsonr(population_by_region, win_loss_by_region)[0]\n",
    "    raise NotImplementedError()\n",
    "nba_correlation()"
   ]
  },
  {
   "cell_type": "code",
   "execution_count": null,
   "metadata": {
    "deletable": false,
    "editable": false,
    "nbgrader": {
     "cell_type": "code",
     "checksum": "bbdeb8eb22f525a34c10dc8798324e42",
     "grade": true,
     "grade_id": "cell-e573b2b4a282b470",
     "locked": true,
     "points": 20,
     "schema_version": 3,
     "solution": false
    }
   },
   "outputs": [],
   "source": []
  },
  {
   "cell_type": "markdown",
   "metadata": {
    "deletable": false,
    "editable": false,
    "nbgrader": {
     "cell_type": "markdown",
     "checksum": "1a1a5809f675ca033086422007cd73bd",
     "grade": false,
     "grade_id": "cell-96e15e4335df78f4",
     "locked": true,
     "schema_version": 3,
     "solution": false
    }
   },
   "source": [
    "## Question 3\n",
    "For this question, calculate the win/loss ratio's correlation with the population of the city it is in for the **MLB** using **2018** data."
   ]
  },
  {
   "cell_type": "code",
   "execution_count": 84,
   "metadata": {
    "deletable": false,
    "nbgrader": {
     "cell_type": "code",
     "checksum": "27e8c0da6c9fa0dffc10488314335b6c",
     "grade": false,
     "grade_id": "cell-33b00fc3f3467b0c",
     "locked": false,
     "schema_version": 3,
     "solution": true
    }
   },
   "outputs": [
    {
     "data": {
      "text/plain": [
       "0.15003737475409498"
      ]
     },
     "execution_count": 85,
     "metadata": {},
     "output_type": "execute_result"
    }
   ],
   "source": [
    "import pandas as pd\n",
    "import numpy as np\n",
    "import scipy.stats as stats\n",
    "import re\n",
    "\n",
    "\n",
    "\n",
    "def mlb_correlation(): \n",
    "    # YOUR CODE HERE\n",
    "    mlb_df=pd.read_csv(\"assets/mlb.csv\")\n",
    "    cities=pd.read_html(\"assets/wikipedia_data.html\")[1]\n",
    "    cities=cities.iloc[:-1,[0,3,5,6,7,8]]\n",
    "    \n",
    "    population_by_region = [] # pass in metropolitan area population from cities\n",
    "    win_loss_by_region = [] # pass in win/loss ratio from mlb_df in the same order as cities[\"Metropolitan area\"]\n",
    "    esporte = 'MLB'\n",
    "    \n",
    "    mlb_df = mlb_df.rename(columns={'team':esporte})\n",
    "    mlb_df = mlb_df[mlb_df['year'] == 2018]\n",
    "    mlb_df = mlb_df[[esporte, 'W', 'L', 'W-L%']]\n",
    "    mlb_df[esporte][0] = 'Boston RedSox'\n",
    "    mlb_df[esporte][8] = 'Chicago WhiteSox'\n",
    "    mlb_df[esporte] = mlb_df[esporte].str.split().str[-1]\n",
    "    \n",
    "    \n",
    "    cities = cities.drop(columns = ['NFL', 'NBA', 'NHL'])\n",
    "    cities.replace(\"—\", pd.NA, inplace=True)  # Substituir \"...\" por Nan\n",
    "    cities[esporte] = cities[esporte].str.replace(r'\\[note \\d+\\]$', \"\")  # Remover [note {número}] de todos nomes de times    \n",
    "    cities[esporte][3] = 'Chicago WhiteSox'\n",
    "    cities[esporte][7] = 'Boston RedSox'\n",
    "    cities[esporte] = cities[esporte].str.split().str[-1]\n",
    "    \n",
    "    df_merged = pd.merge(cities, mlb_df, on=esporte, how=\"right\")\n",
    "    df_merged['Metropolitan area'][1] =  'New York City'\n",
    "    df_merged['Metropolitan area'][21] =  'Chicago'\n",
    "    df_merged['Metropolitan area'][25] = 'Los Angeles'\n",
    "    df_merged['Metropolitan area'][28] = 'San Francisco Bay Area'\n",
    "    df_merged['W'] = pd.to_numeric(df_merged['W'])\n",
    "    df_merged['L'] = pd.to_numeric(df_merged['L'])\n",
    "    df_merged['W-L%'] = pd.to_numeric(df_merged['W-L%'])\n",
    "    \n",
    "    df_agrupadoVitorias = df_merged.groupby('Metropolitan area')['W'].sum().reset_index()\n",
    "    df_agrupadoDerrotas = df_merged.groupby('Metropolitan area')['L'].sum().reset_index()   \n",
    "    df_agrupado = pd.merge(df_agrupadoVitorias, df_agrupadoDerrotas, on=\"Metropolitan area\", how=\"inner\")\n",
    "    df_agrupado = df_merged.groupby('Metropolitan area')['W-L%'].median().reset_index()   \n",
    "    #df_agrupado['ratio'] = df_agrupado['W']/(df_agrupado['W']+df_agrupado['L'])\n",
    "    df_agrupado = pd.merge(df_agrupado, cities, on=\"Metropolitan area\", how=\"left\")\n",
    "    df_agrupado = df_agrupado.drop(columns = [esporte])\n",
    "    \n",
    "    population_by_region = pd.to_numeric(df_agrupado['Population (2016 est.)[8]']).tolist()\n",
    "    win_loss_by_region = df_agrupado['ratio'].tolist()\n",
    "    assert len(population_by_region) == len(win_loss_by_region), \"Q3: Your lists must be the same length\"\n",
    "    assert len(population_by_region) == 26, \"Q3: There should be 26 teams being analysed for MLB\"\n",
    "\n",
    "    return stats.pearsonr(population_by_region, win_loss_by_region)[0]\n",
    "    \n",
    "mlb_correlation()"
   ]
  },
  {
   "cell_type": "code",
   "execution_count": null,
   "metadata": {
    "deletable": false,
    "editable": false,
    "nbgrader": {
     "cell_type": "code",
     "checksum": "cda33b094ba19ccc37a481e0dd29e0bc",
     "grade": true,
     "grade_id": "cell-764d4476f425c5a2",
     "locked": true,
     "points": 20,
     "schema_version": 3,
     "solution": false
    }
   },
   "outputs": [],
   "source": []
  },
  {
   "cell_type": "markdown",
   "metadata": {
    "deletable": false,
    "editable": false,
    "nbgrader": {
     "cell_type": "markdown",
     "checksum": "6977a6da9ed6d8b7a0b7e37bbeda709b",
     "grade": false,
     "grade_id": "cell-793df6c04dfb126e",
     "locked": true,
     "schema_version": 3,
     "solution": false
    }
   },
   "source": [
    "## Question 4\n",
    "For this question, calculate the win/loss ratio's correlation with the population of the city it is in for the **NFL** using **2018** data."
   ]
  },
  {
   "cell_type": "code",
   "execution_count": 42,
   "metadata": {
    "deletable": false,
    "nbgrader": {
     "cell_type": "code",
     "checksum": "c4914ad1e119278ec2bd567c52640b66",
     "grade": false,
     "grade_id": "cell-8ccebc209aeec8d9",
     "locked": false,
     "schema_version": 3,
     "solution": true
    }
   },
   "outputs": [
    {
     "data": {
      "text/plain": [
       "(0.004922112149349409, 0.9797833458363694)"
      ]
     },
     "execution_count": 42,
     "metadata": {},
     "output_type": "execute_result"
    }
   ],
   "source": [
    "import pandas as pd\n",
    "import numpy as np\n",
    "import scipy.stats as stats\n",
    "import re\n",
    "\n",
    "\n",
    "def nfl_correlation(): \n",
    "    # YOUR CODE HERE\n",
    "    #raise NotImplementedError()\n",
    "    nfl_df=pd.read_csv(\"assets/nfl.csv\")\n",
    "    cities=pd.read_html(\"assets/wikipedia_data.html\")[1]\n",
    "    cities=cities.iloc[:-1,[0,3,5,6,7,8]]\n",
    "    \n",
    "    population_by_region = [] # pass in metropolitan area population from cities\n",
    "    win_loss_by_region = [] # pass in win/loss ratio from nfl_df in the same order as cities[\"Metropolitan area\"]\n",
    "    esporte = 'NFL'\n",
    "    \n",
    "    nfl_df = nfl_df.rename(columns={'team':esporte})\n",
    "    nfl_df = nfl_df[nfl_df['year'] == 2018]\n",
    "    nfl_df = nfl_df[[esporte, 'W', 'L']]\n",
    "    nfl_df[esporte] = nfl_df[esporte].str.replace(r'\\*$|\\+$', \"\")\n",
    "    nfl_df = nfl_df[~nfl_df[esporte].str.startswith(('AFC', 'NFC'))]\n",
    "    nfl_df[esporte] = nfl_df[esporte].str.split().str[-1]\n",
    "    \n",
    "    cities = cities.drop(columns = ['MLB', 'NBA', 'NHL'])\n",
    "    cities.replace(\"—\", pd.NA, inplace=True)  # Substituir \"...\" por Nan\n",
    "    cities[esporte] = cities[esporte].str.replace(r'\\[note \\d+\\]$', \"\")  # Remover [note {número}] de todos nomes de times    \n",
    "    cities[esporte] = cities[esporte].str.split().str[-1]\n",
    "    \n",
    "    df_merged = pd.merge(cities, nfl_df, on=esporte, how=\"right\")\n",
    "    df_merged['Metropolitan area'][19] =  'New York City'\n",
    "    df_merged['Metropolitan area'][28] = 'Los Angeles'\n",
    "    df_merged['Metropolitan area'][30] = 'San Francisco Bay Area' \n",
    "    df_merged['W'] = pd.to_numeric(df_merged['W'])\n",
    "    df_merged['L'] = pd.to_numeric(df_merged['L'])\n",
    "    \n",
    "    df_agrupadoVitorias = df_merged.groupby('Metropolitan area')['W'].sum().reset_index()\n",
    "    df_agrupadoDerrotas = df_merged.groupby('Metropolitan area')['L'].sum().reset_index()   \n",
    "    df_agrupado = pd.merge(df_agrupadoVitorias, df_agrupadoDerrotas, on=\"Metropolitan area\", how=\"inner\")\n",
    "    df_agrupado['ratio'] = df_agrupado['W']/(df_agrupado['W']+df_agrupado['L'])\n",
    "    df_agrupado = pd.merge(df_agrupado, cities, on=\"Metropolitan area\", how=\"left\")\n",
    "    df_agrupado = df_agrupado.drop(columns = [esporte])\n",
    "    \n",
    "    population_by_region = pd.to_numeric(df_agrupado['Population (2016 est.)[8]']).tolist()\n",
    "    win_loss_by_region = df_agrupado['ratio'].tolist()\n",
    "\n",
    "    assert len(population_by_region) == len(win_loss_by_region), \"Q4: Your lists must be the same length\"\n",
    "    assert len(population_by_region) == 29, \"Q4: There should be 29 teams being analysed for NFL\"\n",
    "\n",
    "    return stats.pearsonr(population_by_region, win_loss_by_region)[0]\n",
    "nfl_correlation()"
   ]
  },
  {
   "cell_type": "code",
   "execution_count": null,
   "metadata": {
    "deletable": false,
    "editable": false,
    "nbgrader": {
     "cell_type": "code",
     "checksum": "e9415d6399aa49e3a1a60813afdefa3b",
     "grade": true,
     "grade_id": "cell-de7b148b9554dbda",
     "locked": true,
     "points": 20,
     "schema_version": 3,
     "solution": false
    }
   },
   "outputs": [],
   "source": []
  },
  {
   "cell_type": "markdown",
   "metadata": {
    "deletable": false,
    "editable": false,
    "nbgrader": {
     "cell_type": "markdown",
     "checksum": "b02d5cd3273f561e4ae939bb2a41740c",
     "grade": false,
     "grade_id": "cell-97b49d8639e908c4",
     "locked": true,
     "schema_version": 3,
     "solution": false
    }
   },
   "source": [
    "## Question 5\n",
    "In this question I would like you to explore the hypothesis that **given that an area has two sports teams in different sports, those teams will perform the same within their respective sports**. How I would like to see this explored is with a series of paired t-tests (so use [`ttest_rel`](https://docs.scipy.org/doc/scipy/reference/generated/scipy.stats.ttest_rel.html)) between all pairs of sports. Are there any sports where we can reject the null hypothesis? Again, average values where a sport has multiple teams in one region. Remember, you will only be including, for each sport, cities which have teams engaged in that sport, drop others as appropriate. This question is worth 20% of the grade for this assignment."
   ]
  },
  {
   "cell_type": "code",
   "execution_count": null,
   "metadata": {
    "deletable": false,
    "nbgrader": {
     "cell_type": "code",
     "checksum": "6d78c961eb66f8d8c81f06d33ae8f393",
     "grade": false,
     "grade_id": "cell-92f25f44b8d1179f",
     "locked": false,
     "schema_version": 3,
     "solution": true
    }
   },
   "outputs": [],
   "source": [
    "import pandas as pd\n",
    "import numpy as np\n",
    "import scipy.stats as stats\n",
    "import re\n",
    "\n",
    "mlb_df=pd.read_csv(\"assets/mlb.csv\")\n",
    "nhl_df=pd.read_csv(\"assets/nhl.csv\")\n",
    "nba_df=pd.read_csv(\"assets/nba.csv\")\n",
    "nfl_df=pd.read_csv(\"assets/nfl.csv\")\n",
    "cities=pd.read_html(\"assets/wikipedia_data.html\")[1]\n",
    "cities=cities.iloc[:-1,[0,3,5,6,7,8]]\n",
    "\n",
    "def sports_team_performance():\n",
    "    # YOUR CODE HERE\n",
    "    raise NotImplementedError()\n",
    "    \n",
    "    # Note: p_values is a full dataframe, so df.loc[\"NFL\",\"NBA\"] should be the same as df.loc[\"NBA\",\"NFL\"] and\n",
    "    # df.loc[\"NFL\",\"NFL\"] should return np.nan\n",
    "    sports = ['NFL', 'NBA', 'NHL', 'MLB']\n",
    "    p_values = pd.DataFrame({k:np.nan for k in sports}, index=sports)\n",
    "    \n",
    "    assert abs(p_values.loc[\"NBA\", \"NHL\"] - 0.02) <= 1e-2, \"The NBA-NHL p-value should be around 0.02\"\n",
    "    assert abs(p_values.loc[\"MLB\", \"NFL\"] - 0.80) <= 1e-2, \"The MLB-NFL p-value should be around 0.80\"\n",
    "    return p_values"
   ]
  },
  {
   "cell_type": "code",
   "execution_count": null,
   "metadata": {
    "deletable": false,
    "editable": false,
    "nbgrader": {
     "cell_type": "code",
     "checksum": "2a596ab421a45cc01168d10e8fbb8f89",
     "grade": true,
     "grade_id": "cell-fb4b9cb5ff4570a6",
     "locked": true,
     "points": 20,
     "schema_version": 3,
     "solution": false
    }
   },
   "outputs": [],
   "source": []
  }
 ],
 "metadata": {
  "kernelspec": {
   "display_name": "Python 3 (ipykernel)",
   "language": "python",
   "name": "python3"
  },
  "language_info": {
   "codemirror_mode": {
    "name": "ipython",
    "version": 3
   },
   "file_extension": ".py",
   "mimetype": "text/x-python",
   "name": "python",
   "nbconvert_exporter": "python",
   "pygments_lexer": "ipython3",
   "version": "3.9.13"
  }
 },
 "nbformat": 4,
 "nbformat_minor": 4
}
